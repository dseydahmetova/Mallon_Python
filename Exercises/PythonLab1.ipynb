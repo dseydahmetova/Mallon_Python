{
 "cells": [
  {
   "cell_type": "code",
   "execution_count": 1,
   "id": "c71759d8-3519-4f7a-a58b-52bf31bf39e2",
   "metadata": {},
   "outputs": [
    {
     "name": "stdout",
     "output_type": "stream",
     "text": [
      "Hello, World!\n"
     ]
    }
   ],
   "source": [
    "print(\"Hello, World!\")"
   ]
  },
  {
   "cell_type": "code",
   "execution_count": 2,
   "id": "27a82a7f-f919-4f0b-9a1b-90bb05581f88",
   "metadata": {},
   "outputs": [
    {
     "name": "stdout",
     "output_type": "stream",
     "text": [
      "Hello, Python!\n"
     ]
    }
   ],
   "source": [
    "print(\"Hello, Python!\")"
   ]
  },
  {
   "cell_type": "code",
   "execution_count": 3,
   "id": "f70359a2-9df1-4352-b35e-8549a6a9415f",
   "metadata": {},
   "outputs": [
    {
     "name": "stdin",
     "output_type": "stream",
     "text": [
      "Enter a number:  5\n"
     ]
    },
    {
     "name": "stdout",
     "output_type": "stream",
     "text": [
      "Odd number\n"
     ]
    }
   ],
   "source": [
    "num = int(input('Enter a number: '))\n",
    "if (num % 2 == 0):\n",
    "    print(\"Even number\")\n",
    "else:\n",
    "    print(\"Odd number\")"
   ]
  },
  {
   "cell_type": "code",
   "execution_count": 14,
   "id": "d829000d-f638-49aa-a620-0157584755f3",
   "metadata": {},
   "outputs": [
    {
     "name": "stdout",
     "output_type": "stream",
     "text": [
      "Dana\n",
      "12\n",
      "Dana 12\n"
     ]
    }
   ],
   "source": [
    "name = \"Dana\"\n",
    "age = 12\n",
    "print(name, end='')\n",
    "print()\n",
    "print(age)\n",
    "nameAge = name + ' ' + str(age)\n",
    "print(nameAge)"
   ]
  },
  {
   "cell_type": "code",
   "execution_count": 8,
   "id": "bb56e65e-e96c-4679-8f3d-a4418e1b81b8",
   "metadata": {},
   "outputs": [
    {
     "name": "stdout",
     "output_type": "stream",
     "text": [
      "You have   3   attempts\n"
     ]
    },
    {
     "name": "stdin",
     "output_type": "stream",
     "text": [
      "Enter the number between 100 and 200: 179\n"
     ]
    },
    {
     "name": "stdout",
     "output_type": "stream",
     "text": [
      "Try again\n",
      "You have   2   attempts\n"
     ]
    },
    {
     "name": "stdin",
     "output_type": "stream",
     "text": [
      "Enter the number between 100 and 200: 147\n"
     ]
    },
    {
     "name": "stdout",
     "output_type": "stream",
     "text": [
      "Try again\n",
      "You have   1   attempts\n"
     ]
    },
    {
     "name": "stdin",
     "output_type": "stream",
     "text": [
      "Enter the number between 100 and 200: 150\n"
     ]
    },
    {
     "name": "stdout",
     "output_type": "stream",
     "text": [
      "Try again\n",
      "The number was:  158\n"
     ]
    }
   ],
   "source": [
    "import random\n",
    "\n",
    "num = random.randint(100,200)\n",
    "\n",
    "i = 3;\n",
    "while i > 0:\n",
    "    print('You have', ' ', i, ' ', 'attempts')\n",
    "    guess = int(input('Enter the number between 100 and 200:'))\n",
    "    if num == guess:\n",
    "        print(\"You guessed number\")\n",
    "        break\n",
    "    else:\n",
    "        i -= 1\n",
    "        print(\"Try again\")\n",
    "\n",
    "print(\"The number was: \", num)"
   ]
  },
  {
   "cell_type": "code",
   "execution_count": 9,
   "id": "45acc31f-58b0-4ae9-a6ae-b7db102706b4",
   "metadata": {},
   "outputs": [
    {
     "name": "stdout",
     "output_type": "stream",
     "text": [
      "[4, 16]\n"
     ]
    }
   ],
   "source": [
    "listNum = [1, 4, 9, 16, 25];\n",
    "listEven = [];\n",
    "\n",
    "for i in listNum:\n",
    "    if i % 2 == 0 :\n",
    "        listEven.append(i)\n",
    "\n",
    "print(listEven);"
   ]
  },
  {
   "cell_type": "code",
   "execution_count": 10,
   "id": "aec6a29c-75c7-4853-97f5-7a47d5a8b78a",
   "metadata": {},
   "outputs": [
    {
     "name": "stdout",
     "output_type": "stream",
     "text": [
      "325\n"
     ]
    }
   ],
   "source": [
    "age = 25\n",
    "sum = 0\n",
    "\n",
    "i = 1\n",
    "while i <= age:\n",
    "    sum += i\n",
    "    i += 1\n",
    "print(sum)"
   ]
  },
  {
   "cell_type": "code",
   "execution_count": null,
   "id": "cf8cc92c-c0d9-4d19-9e53-8df3241ed617",
   "metadata": {},
   "outputs": [],
   "source": []
  }
 ],
 "metadata": {
  "kernelspec": {
   "display_name": "Python 3 (ipykernel)",
   "language": "python",
   "name": "python3"
  },
  "language_info": {
   "codemirror_mode": {
    "name": "ipython",
    "version": 3
   },
   "file_extension": ".py",
   "mimetype": "text/x-python",
   "name": "python",
   "nbconvert_exporter": "python",
   "pygments_lexer": "ipython3",
   "version": "3.11.7"
  }
 },
 "nbformat": 4,
 "nbformat_minor": 5
}
